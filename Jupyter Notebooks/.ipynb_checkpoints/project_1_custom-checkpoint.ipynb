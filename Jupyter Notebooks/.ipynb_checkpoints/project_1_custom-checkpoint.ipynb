{
 "cells": [
  {
   "cell_type": "markdown",
   "metadata": {},
   "source": [
    "Importing Liberaries:"
   ]
  },
  {
   "cell_type": "code",
   "execution_count": 66,
   "metadata": {
    "id": "bxuZeS3DiBgV"
   },
   "outputs": [],
   "source": [
    "import tensorflow as tf\n",
    "from tensorflow.keras.preprocessing.image import ImageDataGenerator\n",
    "import tensorflow.keras.layers as tfl\n",
    "from tensorflow.keras.models import Sequential, load_model\n",
    "import numpy as np\n",
    "import pandas as pd\n",
    "import os, sys\n",
    "import shutil\n",
    "from sklearn.model_selection import train_test_split\n",
    "from PIL import Image\n",
    "import splitfolders\n",
    "import matplotlib.pyplot as plt\n",
    "from tensorflow.python.keras import regularizers\n",
    "\n",
    "\n",
    "import numpy as np\n",
    "import pandas as pd\n",
    "\n",
    "import os\n",
    "import cv2\n",
    "import matplotlib.pyplot as plt\n",
    "import seaborn as sns\n",
    "\n",
    "from tqdm import tqdm\n",
    "import pydot\n",
    "import glob \n",
    "import matplotlib.pyplot as plotter\n",
    "\n",
    "import tensorflow as tf\n",
    "import keras\n",
    "from tensorflow.keras.models import Sequential\n",
    "from tensorflow.keras.layers import Dense, Dropout, GlobalAveragePooling2D, BatchNormalization\n",
    "from tensorflow.keras.preprocessing.image import ImageDataGenerator\n",
    "from tensorflow.keras.callbacks import ModelCheckpoint, EarlyStopping\n",
    "\n",
    "from sklearn.metrics import confusion_matrix , accuracy_score\n",
    "from sklearn.metrics import classification_report\n",
    "from sklearn.model_selection import train_test_split\n",
    "from sklearn.preprocessing import LabelEncoder\n",
    "\n",
    "import warnings\n",
    "warnings.filterwarnings('ignore')\n"
   ]
  },
  {
   "cell_type": "code",
   "execution_count": 30,
   "metadata": {
    "scrolled": true
   },
   "outputs": [
    {
     "name": "stdout",
     "output_type": "stream",
     "text": [
      "2.10.0\n",
      "Num GPUs Available:  1\n"
     ]
    }
   ],
   "source": [
    "print(tf.__version__)\n",
    "print(\"Num GPUs Available: \", len(tf.config.list_physical_devices('GPU')))"
   ]
  },
  {
   "cell_type": "code",
   "execution_count": 31,
   "metadata": {
    "colab": {
     "base_uri": "https://localhost:8080/"
    },
    "id": "lFz-R55Ph6e0",
    "outputId": "801d5caa-0976-44d3-ce64-d2ad6eb10779"
   },
   "outputs": [],
   "source": [
    "dataset_path = '/FGD/Acadamics and University/Python/Intelligent Systems/Project/Data'\n",
    "# path = '/FGD/Acadamics and University/Python/Intelligent Systems/Project/rescal128'\n",
    "path = '/FGD/Acadamics and University/Python/Intelligent Systems/Project/rescal224'"
   ]
  },
  {
   "cell_type": "code",
   "execution_count": 32,
   "metadata": {
    "scrolled": false
   },
   "outputs": [
    {
     "data": {
      "text/html": [
       "<div>\n",
       "<style scoped>\n",
       "    .dataframe tbody tr th:only-of-type {\n",
       "        vertical-align: middle;\n",
       "    }\n",
       "\n",
       "    .dataframe tbody tr th {\n",
       "        vertical-align: top;\n",
       "    }\n",
       "\n",
       "    .dataframe thead th {\n",
       "        text-align: right;\n",
       "    }\n",
       "</style>\n",
       "<table border=\"1\" class=\"dataframe\">\n",
       "  <thead>\n",
       "    <tr style=\"text-align: right;\">\n",
       "      <th></th>\n",
       "      <th>Unnamed: 0</th>\n",
       "      <th>path</th>\n",
       "      <th>label</th>\n",
       "    </tr>\n",
       "  </thead>\n",
       "  <tbody>\n",
       "    <tr>\n",
       "      <th>0</th>\n",
       "      <td>0</td>\n",
       "      <td>Surprise/1bd930d6a1c717c11be33db74823f661cb53f...</td>\n",
       "      <td>Surprise</td>\n",
       "    </tr>\n",
       "    <tr>\n",
       "      <th>1</th>\n",
       "      <td>1</td>\n",
       "      <td>Surprise/cropped_emotions.100096~12fffff.png</td>\n",
       "      <td>Surprise</td>\n",
       "    </tr>\n",
       "    <tr>\n",
       "      <th>2</th>\n",
       "      <td>2</td>\n",
       "      <td>Surprise/0df0e470e33093f5b72a8197fa209d684032c...</td>\n",
       "      <td>Surprise</td>\n",
       "    </tr>\n",
       "    <tr>\n",
       "      <th>3</th>\n",
       "      <td>3</td>\n",
       "      <td>Surprise/cropped_emotions.260779~12fffff.png</td>\n",
       "      <td>Surprise</td>\n",
       "    </tr>\n",
       "    <tr>\n",
       "      <th>4</th>\n",
       "      <td>4</td>\n",
       "      <td>Surprise/cropped_emotions.263616~12fffff.png</td>\n",
       "      <td>Surprise</td>\n",
       "    </tr>\n",
       "  </tbody>\n",
       "</table>\n",
       "</div>"
      ],
      "text/plain": [
       "   Unnamed: 0                                               path     label\n",
       "0           0  Surprise/1bd930d6a1c717c11be33db74823f661cb53f...  Surprise\n",
       "1           1       Surprise/cropped_emotions.100096~12fffff.png  Surprise\n",
       "2           2  Surprise/0df0e470e33093f5b72a8197fa209d684032c...  Surprise\n",
       "3           3       Surprise/cropped_emotions.260779~12fffff.png  Surprise\n",
       "4           4       Surprise/cropped_emotions.263616~12fffff.png  Surprise"
      ]
     },
     "execution_count": 32,
     "metadata": {},
     "output_type": "execute_result"
    }
   ],
   "source": [
    "df = pd.read_csv(dataset_path + \"/data.csv\")\n",
    "df.head()"
   ]
  },
  {
   "cell_type": "markdown",
   "metadata": {},
   "source": [
    "Rescaling all images and saving them:\n",
    "We defiend a function which resizes images within subfolders of the dataset, preserving their original names.\n",
    "\n",
    "Args:\n",
    "dataset_path (str): Path to the dataset directory.\n",
    "output_path (str): Path to the output directory for resized images.\n",
    "target_size (tuple): Target size for resized images (width, height).\n"
   ]
  },
  {
   "cell_type": "markdown",
   "metadata": {
    "id": "UvtHCaeCv8Zm"
   },
   "source": [
    "Splitting the Dataset into folders:"
   ]
  },
  {
   "cell_type": "markdown",
   "metadata": {
    "id": "i78mIvmnlRsD"
   },
   "source": [
    " Preprocess Your Dataset:"
   ]
  },
  {
   "cell_type": "markdown",
   "metadata": {},
   "source": [
    "# 2 Sets #"
   ]
  },
  {
   "cell_type": "code",
   "execution_count": 34,
   "metadata": {},
   "outputs": [],
   "source": [
    "train_dir = '/FGD/Acadamics and University/Python/Intelligent Systems/Project/rescal224 - split 2/train'\n",
    "val_dir = '/FGD/Acadamics and University/Python/Intelligent Systems/Project/rescal224 - split 2/val'"
   ]
  },
  {
   "cell_type": "code",
   "execution_count": 35,
   "metadata": {},
   "outputs": [],
   "source": [
    "train_datagen = ImageDataGenerator(rescale=1./255, horizontal_flip = True, vertical_flip = True)\n",
    "\n",
    "val_datagen = ImageDataGenerator(rescale=1./255)"
   ]
  },
  {
   "cell_type": "code",
   "execution_count": 36,
   "metadata": {},
   "outputs": [
    {
     "name": "stdout",
     "output_type": "stream",
     "text": [
      "Found 11397 images belonging to 5 classes.\n",
      "Found 2851 images belonging to 5 classes.\n",
      "{0: 'Angry', 1: 'Happy', 2: 'Neutral', 3: 'Sad', 4: 'Surprise'}\n"
     ]
    }
   ],
   "source": [
    "train_generator = train_datagen.flow_from_directory(\n",
    "    train_dir,\n",
    "    target_size=(224, 224),\n",
    "    batch_size=36,\n",
    "    class_mode='categorical'\n",
    ")\n",
    "\n",
    "# Load validation data\n",
    "val_generator = val_datagen.flow_from_directory(\n",
    "    val_dir,\n",
    "    target_size=(224, 224),\n",
    "    batch_size=36,\n",
    "    class_mode='categorical'\n",
    ")\n",
    "\n",
    "\n",
    "emotion_labels = {v: k for k, v in train_generator.class_indices.items()}\n",
    "print(emotion_labels)"
   ]
  },
  {
   "cell_type": "markdown",
   "metadata": {
    "id": "mZmurAohie2m"
   },
   "source": [
    "Create a Sequential model and add layers:"
   ]
  },
  {
   "cell_type": "code",
   "execution_count": 40,
   "metadata": {
    "id": "uIO7r2wKATRR"
   },
   "outputs": [],
   "source": [
    "# # Arbitrary Architecture 1:\n",
    "\n",
    "# # Better coding (edit params):\n",
    "\n",
    "# num_classes = 5\n",
    "# input_shape = (224, 224, 3)\n",
    "\n",
    "# model = tf.keras.Sequential([\n",
    "#     tfl.Input(shape=input_shape),\n",
    "    \n",
    "#     tfl.Conv2D(filters=8, kernel_size=(3, 3), padding='same', activation='relu'),\n",
    "#     tfl.MaxPool2D(pool_size=(2, 2)),\n",
    "    \n",
    "#     tfl.Conv2D(filters=16, kernel_size=(3, 3), padding='same', activation='relu'),\n",
    "#     tfl.MaxPool2D(pool_size=(2, 2)),\n",
    "\n",
    "#     tfl.Conv2D(filters=32, kernel_size=(3, 3), padding='same', activation='relu'),\n",
    "#     tfl.MaxPool2D(pool_size=(2, 2)),\n",
    "\n",
    "#     tfl.Conv2D(filters=64, kernel_size=(3, 3), padding='same', activation='relu'),\n",
    "#     tfl.MaxPool2D(pool_size=(2, 2)),\n",
    "\n",
    "#     tfl.Conv2D(filters=128, kernel_size=(3, 3), padding='same', activation='relu'),\n",
    "#     tfl.MaxPool2D(pool_size=(2, 2)),\n",
    "\n",
    "#     tfl.GlobalAveragePooling2D(),\n",
    "#     tfl.Dense(128, activation='relu'),\n",
    "#     tfl.Dropout(0.5),\n",
    "#     tfl.Flatten(),\n",
    "#     tfl.Dense(num_classes, activation='softmax')\n",
    "# ])\n"
   ]
  },
  {
   "cell_type": "code",
   "execution_count": 41,
   "metadata": {},
   "outputs": [],
   "source": [
    "# # Arbitrary Architecture 2:\n",
    "\n",
    "# # Better coding (edit params):\n",
    "\n",
    "# num_classes = 5\n",
    "# input_shape = (224, 224, 3)\n",
    "\n",
    "# model = tf.keras.Sequential([\n",
    "#     tfl.Input(shape=input_shape),\n",
    "    \n",
    "#     tfl.Conv2D(filters=8, kernel_size=(3, 3), padding='same', activation='relu'),\n",
    "#     tfl.MaxPool2D(pool_size=(2, 2)),\n",
    "    \n",
    "#     tfl.Conv2D(filters=16, kernel_size=(3, 3), padding='same', activation='relu'),\n",
    "#     tfl.MaxPool2D(pool_size=(2, 2)),\n",
    "\n",
    "#     tfl.Conv2D(filters=32, kernel_size=(3, 3), padding='same', activation='relu'),\n",
    "#     tfl.MaxPool2D(pool_size=(2, 2)),\n",
    "\n",
    "#     tfl.Conv2D(filters=64, kernel_size=(3, 3), padding='same', activation='relu'),\n",
    "#     tfl.MaxPool2D(pool_size=(2, 2)),\n",
    "\n",
    "#     tfl.Conv2D(filters=128, kernel_size=(3, 3), padding='same', activation='relu'),\n",
    "#     tfl.MaxPool2D(pool_size=(2, 2)),\n",
    "\n",
    "#     tfl.Flatten(),\n",
    "\n",
    "#     tfl.Dense(128, activation='relu',kernel_regularizer=regularizers.l2(0.01)),\n",
    "    \n",
    "#     tfl.Dropout(0.5),\n",
    "    \n",
    "#     tfl.Dense(num_classes, activation='softmax')\n",
    "# ])\n"
   ]
  },
  {
   "cell_type": "code",
   "execution_count": 42,
   "metadata": {},
   "outputs": [],
   "source": [
    "# Arbitrary Architecture 3:\n",
    "\n",
    "# Better coding (edit params):\n",
    "\n",
    "num_classes = 5\n",
    "input_shape = (224, 224, 3)\n",
    "\n",
    "model = tf.keras.Sequential([\n",
    "    tfl.Input(shape=input_shape),\n",
    "    \n",
    "    tfl.Conv2D(filters=16, kernel_size=(3, 3), padding='same', activation='relu'),\n",
    "    tfl.MaxPool2D(pool_size=(2, 2)),\n",
    "    tfl.BatchNormalization(),  \n",
    "    \n",
    "    tfl.Conv2D(filters=32, kernel_size=(3, 3), padding='same', activation='relu'),\n",
    "    tfl.MaxPool2D(pool_size=(2, 2)),\n",
    "    tfl.BatchNormalization(),  \n",
    "    \n",
    "    tfl.Conv2D(filters=64, kernel_size=(3, 3), padding='same', activation='relu'),\n",
    "    tfl.MaxPool2D(pool_size=(2, 2)),\n",
    "    tfl.BatchNormalization(),  \n",
    "    \n",
    "    tfl.Conv2D(filters=128, kernel_size=(3, 3), padding='same', activation='relu'),\n",
    "    tfl.MaxPool2D(pool_size=(2, 2)),\n",
    "    tfl.BatchNormalization(),  \n",
    "    \n",
    "    tfl.Conv2D(filters=256, kernel_size=(3, 3), padding='same', activation='relu'),\n",
    "    tfl.MaxPool2D(pool_size=(2, 2)),\n",
    "    tfl.BatchNormalization(),  \n",
    "    \n",
    "    tfl.Flatten(),\n",
    "\n",
    "    tfl.Dense(128, activation='relu',kernel_regularizer=regularizers.l2(0.01)),\n",
    "\n",
    "    tfl.Dropout(0.5),\n",
    "    \n",
    "    tfl.Dense(num_classes, activation='softmax')\n",
    "])\n"
   ]
  },
  {
   "cell_type": "markdown",
   "metadata": {
    "id": "JYVW1L5Kimu6"
   },
   "source": [
    "Compile the Model\n",
    "Choose an optimizer (e.g., Adam) and loss function (e.g., categorical cross-entropy):"
   ]
  },
  {
   "cell_type": "code",
   "execution_count": 48,
   "metadata": {
    "colab": {
     "base_uri": "https://localhost:8080/",
     "height": 408
    },
    "id": "BXuI-njkibXj",
    "outputId": "d341c76e-5975-4164-9731-d1f4afe5dfad",
    "scrolled": true
   },
   "outputs": [
    {
     "name": "stdout",
     "output_type": "stream",
     "text": [
      "Model: \"sequential_1\"\n",
      "_________________________________________________________________\n",
      " Layer (type)                Output Shape              Param #   \n",
      "=================================================================\n",
      " conv2d_5 (Conv2D)           (None, 224, 224, 16)      448       \n",
      "                                                                 \n",
      " max_pooling2d_5 (MaxPooling  (None, 112, 112, 16)     0         \n",
      " 2D)                                                             \n",
      "                                                                 \n",
      " batch_normalization_5 (Batc  (None, 112, 112, 16)     64        \n",
      " hNormalization)                                                 \n",
      "                                                                 \n",
      " conv2d_6 (Conv2D)           (None, 112, 112, 32)      4640      \n",
      "                                                                 \n",
      " max_pooling2d_6 (MaxPooling  (None, 56, 56, 32)       0         \n",
      " 2D)                                                             \n",
      "                                                                 \n",
      " batch_normalization_6 (Batc  (None, 56, 56, 32)       128       \n",
      " hNormalization)                                                 \n",
      "                                                                 \n",
      " conv2d_7 (Conv2D)           (None, 56, 56, 64)        18496     \n",
      "                                                                 \n",
      " max_pooling2d_7 (MaxPooling  (None, 28, 28, 64)       0         \n",
      " 2D)                                                             \n",
      "                                                                 \n",
      " batch_normalization_7 (Batc  (None, 28, 28, 64)       256       \n",
      " hNormalization)                                                 \n",
      "                                                                 \n",
      " conv2d_8 (Conv2D)           (None, 28, 28, 128)       73856     \n",
      "                                                                 \n",
      " max_pooling2d_8 (MaxPooling  (None, 14, 14, 128)      0         \n",
      " 2D)                                                             \n",
      "                                                                 \n",
      " batch_normalization_8 (Batc  (None, 14, 14, 128)      512       \n",
      " hNormalization)                                                 \n",
      "                                                                 \n",
      " conv2d_9 (Conv2D)           (None, 14, 14, 256)       295168    \n",
      "                                                                 \n",
      " max_pooling2d_9 (MaxPooling  (None, 7, 7, 256)        0         \n",
      " 2D)                                                             \n",
      "                                                                 \n",
      " batch_normalization_9 (Batc  (None, 7, 7, 256)        1024      \n",
      " hNormalization)                                                 \n",
      "                                                                 \n",
      " flatten_1 (Flatten)         (None, 12544)             0         \n",
      "                                                                 \n",
      " dense_2 (Dense)             (None, 128)               1605760   \n",
      "                                                                 \n",
      " dropout_1 (Dropout)         (None, 128)               0         \n",
      "                                                                 \n",
      " dense_3 (Dense)             (None, 5)                 645       \n",
      "                                                                 \n",
      "=================================================================\n",
      "Total params: 2,000,997\n",
      "Trainable params: 2,000,005\n",
      "Non-trainable params: 992\n",
      "_________________________________________________________________\n"
     ]
    }
   ],
   "source": [
    "model.compile(optimizer ='Adam',loss='categorical_crossentropy', metrics=['accuracy'])\n",
    "model.summary()\n"
   ]
  },
  {
   "cell_type": "code",
   "execution_count": 63,
   "metadata": {},
   "outputs": [
    {
     "data": {
      "image/png": "[encoded data removed]",
      "text/plain": [
       "<IPython.core.display.Image object>"
      ]
     },
     "execution_count": 63,
     "metadata": {},
     "output_type": "execute_result"
    }
   ],
   "source": [
    "tf.keras.utils.plot_model(model, to_file='model.png', show_shapes=True, show_layer_names=True,show_dtype=True,dpi=80)"
   ]
  },
  {
   "cell_type": "code",
   "execution_count": 49,
   "metadata": {
    "colab": {
     "base_uri": "https://localhost:8080/"
    },
    "id": "5JEy6EJQ7nr_",
    "outputId": "29ad9304-8f6c-4b07-e97d-c187ac8b56bf"
   },
   "outputs": [
    {
     "name": "stdout",
     "output_type": "stream",
     "text": [
      "X_batch shape: (36, 224, 224, 3)\n",
      "y_batch shape: (36, 5)\n"
     ]
    }
   ],
   "source": [
    "# Verify my validation_generator is working:\n",
    "\n",
    "for X_batch, y_batch in val_generator:\n",
    "    print(\"X_batch shape:\", X_batch.shape)\n",
    "    print(\"y_batch shape:\", y_batch.shape)\n",
    "    break  # Print only one batch\n"
   ]
  },
  {
   "cell_type": "code",
   "execution_count": 50,
   "metadata": {
    "colab": {
     "base_uri": "https://localhost:8080/"
    },
    "id": "jZoujTvm74NX",
    "outputId": "b63ce623-4626-4f11-ee6a-8513183e23c6"
   },
   "outputs": [
    {
     "data": {
      "text/plain": [
       "80"
      ]
     },
     "execution_count": 50,
     "metadata": {},
     "output_type": "execute_result"
    }
   ],
   "source": [
    "len(val_generator)"
   ]
  },
  {
   "cell_type": "code",
   "execution_count": 51,
   "metadata": {
    "colab": {
     "base_uri": "https://localhost:8080/"
    },
    "id": "JSulH7j_9KPC",
    "outputId": "33dddfeb-bf50-4036-f9ca-13eb7a507cac"
   },
   "outputs": [
    {
     "name": "stdout",
     "output_type": "stream",
     "text": [
      "Number of validation batches: 634\n"
     ]
    }
   ],
   "source": [
    "num_validation_batches = len(train_generator)* 2\n",
    "print(\"Number of validation batches:\", num_validation_batches)"
   ]
  },
  {
   "cell_type": "code",
   "execution_count": 58,
   "metadata": {},
   "outputs": [],
   "source": [
    "# Define a checkpoint callback to save the best model\n",
    "checkpoint = ModelCheckpoint('best_model.h5', monitor='val_loss', save_best_only=True, mode='min')\n",
    "\n",
    "# Define an early stopping callback to prevent overfitting\n",
    "early_stopping = EarlyStopping(monitor='val_loss', patience=5, restore_best_weights=True)"
   ]
  },
  {
   "cell_type": "code",
   "execution_count": 59,
   "metadata": {
    "colab": {
     "background_save": true,
     "base_uri": "https://localhost:8080/"
    },
    "id": "OsRmWx9XnAq_",
    "outputId": "999c0015-5248-4b7a-88e1-5ae82a341fe7",
    "scrolled": true
   },
   "outputs": [
    {
     "name": "stdout",
     "output_type": "stream",
     "text": [
      "Epoch 1/50\n",
      "317/317 [==============================] - 28s 86ms/step - loss: 0.6946 - accuracy: 0.8541 - val_loss: 0.9974 - val_accuracy: 0.7692\n",
      "Epoch 2/50\n",
      "317/317 [==============================] - 28s 87ms/step - loss: 0.7013 - accuracy: 0.8584 - val_loss: 0.9914 - val_accuracy: 0.7808\n",
      "Epoch 3/50\n",
      "317/317 [==============================] - 27s 87ms/step - loss: 0.6677 - accuracy: 0.8644 - val_loss: 1.0146 - val_accuracy: 0.7657\n",
      "Epoch 4/50\n",
      "317/317 [==============================] - 28s 88ms/step - loss: 0.6749 - accuracy: 0.8643 - val_loss: 1.0508 - val_accuracy: 0.7524\n",
      "Epoch 5/50\n",
      "317/317 [==============================] - 27s 87ms/step - loss: 0.6774 - accuracy: 0.8612 - val_loss: 1.1017 - val_accuracy: 0.7334\n",
      "Epoch 6/50\n",
      "317/317 [==============================] - 27s 86ms/step - loss: 0.6738 - accuracy: 0.8687 - val_loss: 1.0157 - val_accuracy: 0.7562\n",
      "Epoch 7/50\n",
      "317/317 [==============================] - 27s 86ms/step - loss: 0.6739 - accuracy: 0.8635 - val_loss: 1.0935 - val_accuracy: 0.7583\n"
     ]
    }
   ],
   "source": [
    "# Train the model\n",
    "history = model.fit(\n",
    "    train_generator,\n",
    "    steps_per_epoch=len(train_generator),\n",
    "    epochs=50,\n",
    "    validation_data=val_generator,\n",
    "    validation_steps=len(val_generator),\n",
    "    callbacks=[checkpoint,early_stopping]\n",
    "    )"
   ]
  },
  {
   "cell_type": "code",
   "execution_count": 53,
   "metadata": {
    "id": "nHLz0lyknXuk"
   },
   "outputs": [
    {
     "name": "stdout",
     "output_type": "stream",
     "text": [
      "80/80 [==============================] - 5s 63ms/step - loss: 1.0779 - accuracy: 0.7432\n",
      "Test accuracy: 0.7432479858398438\n"
     ]
    }
   ],
   "source": [
    "# Evaluate the model\n",
    "test_loss, test_acc = model.evaluate(val_generator)\n",
    "print('Test accuracy:', test_acc)"
   ]
  },
  {
   "cell_type": "code",
   "execution_count": 54,
   "metadata": {
    "id": "iwSwqrqk16XN"
   },
   "outputs": [],
   "source": [
    "model.save('custom_model.keras')"
   ]
  },
  {
   "cell_type": "code",
   "execution_count": 74,
   "metadata": {},
   "outputs": [
    {
     "name": "stdout",
     "output_type": "stream",
     "text": [
      "Found 15453 files belonging to 1 classes.\n",
      "Using 12363 files for training.\n",
      "Found 15453 files belonging to 1 classes.\n",
      "Using 3090 files for validation.\n",
      "(64, 224, 224, 3)\n",
      "(64,)\n"
     ]
    }
   ],
   "source": [
    "train_data_dir = dataset_path\n",
    "batch_size = 64\n",
    "target_size = (224,224)\n",
    "validation_split = 0.2\n",
    "train= tf.keras.preprocessing.image_dataset_from_directory(\n",
    "    train_data_dir,\n",
    "    validation_split=validation_split,\n",
    "    subset=\"training\",\n",
    "    seed=100,\n",
    "    image_size=target_size,\n",
    "    batch_size=batch_size,\n",
    ")\n",
    "validation= tf.keras.preprocessing.image_dataset_from_directory(\n",
    "    train_data_dir,\n",
    "    validation_split=validation_split,\n",
    "    subset=\"validation\",\n",
    "    seed=100,\n",
    "    image_size=target_size,\n",
    "    batch_size=batch_size,\n",
    ")\n",
    "\n",
    "for images, labels in train.take(1):\n",
    "    print(images.shape)  \n",
    "    print(labels.shape)  "
   ]
  },
  {
   "cell_type": "code",
   "execution_count": 56,
   "metadata": {},
   "outputs": [
    {
     "data": {
      "text/html": [
       "<div>\n",
       "<style scoped>\n",
       "    .dataframe tbody tr th:only-of-type {\n",
       "        vertical-align: middle;\n",
       "    }\n",
       "\n",
       "    .dataframe tbody tr th {\n",
       "        vertical-align: top;\n",
       "    }\n",
       "\n",
       "    .dataframe thead th {\n",
       "        text-align: right;\n",
       "    }\n",
       "</style>\n",
       "<table border=\"1\" class=\"dataframe\">\n",
       "  <thead>\n",
       "    <tr style=\"text-align: right;\">\n",
       "      <th></th>\n",
       "      <th>loss</th>\n",
       "      <th>accuracy</th>\n",
       "      <th>val_loss</th>\n",
       "      <th>val_accuracy</th>\n",
       "    </tr>\n",
       "  </thead>\n",
       "  <tbody>\n",
       "    <tr>\n",
       "      <th>0</th>\n",
       "      <td>3.211942</td>\n",
       "      <td>0.288409</td>\n",
       "      <td>2.082208</td>\n",
       "      <td>0.282708</td>\n",
       "    </tr>\n",
       "    <tr>\n",
       "      <th>1</th>\n",
       "      <td>1.687557</td>\n",
       "      <td>0.307713</td>\n",
       "      <td>1.508794</td>\n",
       "      <td>0.343388</td>\n",
       "    </tr>\n",
       "    <tr>\n",
       "      <th>2</th>\n",
       "      <td>1.617184</td>\n",
       "      <td>0.334649</td>\n",
       "      <td>1.461553</td>\n",
       "      <td>0.383725</td>\n",
       "    </tr>\n",
       "    <tr>\n",
       "      <th>3</th>\n",
       "      <td>1.590900</td>\n",
       "      <td>0.374046</td>\n",
       "      <td>1.576917</td>\n",
       "      <td>0.400210</td>\n",
       "    </tr>\n",
       "    <tr>\n",
       "      <th>4</th>\n",
       "      <td>1.463914</td>\n",
       "      <td>0.431254</td>\n",
       "      <td>1.606776</td>\n",
       "      <td>0.331463</td>\n",
       "    </tr>\n",
       "    <tr>\n",
       "      <th>5</th>\n",
       "      <td>1.393799</td>\n",
       "      <td>0.459595</td>\n",
       "      <td>1.343410</td>\n",
       "      <td>0.489302</td>\n",
       "    </tr>\n",
       "    <tr>\n",
       "      <th>6</th>\n",
       "      <td>1.350854</td>\n",
       "      <td>0.493726</td>\n",
       "      <td>1.391388</td>\n",
       "      <td>0.514556</td>\n",
       "    </tr>\n",
       "    <tr>\n",
       "      <th>7</th>\n",
       "      <td>1.310671</td>\n",
       "      <td>0.532684</td>\n",
       "      <td>1.262544</td>\n",
       "      <td>0.600842</td>\n",
       "    </tr>\n",
       "    <tr>\n",
       "      <th>8</th>\n",
       "      <td>1.282655</td>\n",
       "      <td>0.571993</td>\n",
       "      <td>1.237750</td>\n",
       "      <td>0.609611</td>\n",
       "    </tr>\n",
       "    <tr>\n",
       "      <th>9</th>\n",
       "      <td>1.222663</td>\n",
       "      <td>0.614372</td>\n",
       "      <td>1.155307</td>\n",
       "      <td>0.673448</td>\n",
       "    </tr>\n",
       "    <tr>\n",
       "      <th>10</th>\n",
       "      <td>1.170449</td>\n",
       "      <td>0.647100</td>\n",
       "      <td>1.190125</td>\n",
       "      <td>0.661522</td>\n",
       "    </tr>\n",
       "    <tr>\n",
       "      <th>11</th>\n",
       "      <td>1.128184</td>\n",
       "      <td>0.670352</td>\n",
       "      <td>1.094835</td>\n",
       "      <td>0.685724</td>\n",
       "    </tr>\n",
       "    <tr>\n",
       "      <th>12</th>\n",
       "      <td>1.079873</td>\n",
       "      <td>0.685180</td>\n",
       "      <td>1.068357</td>\n",
       "      <td>0.689583</td>\n",
       "    </tr>\n",
       "    <tr>\n",
       "      <th>13</th>\n",
       "      <td>1.037349</td>\n",
       "      <td>0.700711</td>\n",
       "      <td>1.087346</td>\n",
       "      <td>0.682217</td>\n",
       "    </tr>\n",
       "    <tr>\n",
       "      <th>14</th>\n",
       "      <td>1.008642</td>\n",
       "      <td>0.714750</td>\n",
       "      <td>0.983442</td>\n",
       "      <td>0.734128</td>\n",
       "    </tr>\n",
       "    <tr>\n",
       "      <th>15</th>\n",
       "      <td>0.989046</td>\n",
       "      <td>0.721242</td>\n",
       "      <td>0.992844</td>\n",
       "      <td>0.722553</td>\n",
       "    </tr>\n",
       "    <tr>\n",
       "      <th>16</th>\n",
       "      <td>0.962505</td>\n",
       "      <td>0.730455</td>\n",
       "      <td>0.985413</td>\n",
       "      <td>0.728166</td>\n",
       "    </tr>\n",
       "    <tr>\n",
       "      <th>17</th>\n",
       "      <td>0.954115</td>\n",
       "      <td>0.738703</td>\n",
       "      <td>0.980129</td>\n",
       "      <td>0.739740</td>\n",
       "    </tr>\n",
       "    <tr>\n",
       "      <th>18</th>\n",
       "      <td>0.924887</td>\n",
       "      <td>0.747565</td>\n",
       "      <td>1.047624</td>\n",
       "      <td>0.703262</td>\n",
       "    </tr>\n",
       "    <tr>\n",
       "      <th>19</th>\n",
       "      <td>0.897217</td>\n",
       "      <td>0.760639</td>\n",
       "      <td>0.991322</td>\n",
       "      <td>0.728516</td>\n",
       "    </tr>\n",
       "    <tr>\n",
       "      <th>20</th>\n",
       "      <td>0.895892</td>\n",
       "      <td>0.760639</td>\n",
       "      <td>0.973880</td>\n",
       "      <td>0.739740</td>\n",
       "    </tr>\n",
       "    <tr>\n",
       "      <th>21</th>\n",
       "      <td>0.901064</td>\n",
       "      <td>0.762569</td>\n",
       "      <td>1.010419</td>\n",
       "      <td>0.713083</td>\n",
       "    </tr>\n",
       "    <tr>\n",
       "      <th>22</th>\n",
       "      <td>0.865363</td>\n",
       "      <td>0.772835</td>\n",
       "      <td>0.931345</td>\n",
       "      <td>0.754121</td>\n",
       "    </tr>\n",
       "    <tr>\n",
       "      <th>23</th>\n",
       "      <td>0.868388</td>\n",
       "      <td>0.774327</td>\n",
       "      <td>0.946329</td>\n",
       "      <td>0.737987</td>\n",
       "    </tr>\n",
       "    <tr>\n",
       "      <th>24</th>\n",
       "      <td>0.867893</td>\n",
       "      <td>0.784241</td>\n",
       "      <td>0.920362</td>\n",
       "      <td>0.761136</td>\n",
       "    </tr>\n",
       "    <tr>\n",
       "      <th>25</th>\n",
       "      <td>0.862771</td>\n",
       "      <td>0.778714</td>\n",
       "      <td>0.994593</td>\n",
       "      <td>0.737285</td>\n",
       "    </tr>\n",
       "    <tr>\n",
       "      <th>26</th>\n",
       "      <td>0.834365</td>\n",
       "      <td>0.792051</td>\n",
       "      <td>0.934197</td>\n",
       "      <td>0.748159</td>\n",
       "    </tr>\n",
       "    <tr>\n",
       "      <th>27</th>\n",
       "      <td>0.823664</td>\n",
       "      <td>0.793454</td>\n",
       "      <td>0.930738</td>\n",
       "      <td>0.747808</td>\n",
       "    </tr>\n",
       "    <tr>\n",
       "      <th>28</th>\n",
       "      <td>0.799392</td>\n",
       "      <td>0.804159</td>\n",
       "      <td>0.967551</td>\n",
       "      <td>0.728867</td>\n",
       "    </tr>\n",
       "    <tr>\n",
       "      <th>29</th>\n",
       "      <td>0.805150</td>\n",
       "      <td>0.798280</td>\n",
       "      <td>1.175009</td>\n",
       "      <td>0.665030</td>\n",
       "    </tr>\n",
       "    <tr>\n",
       "      <th>30</th>\n",
       "      <td>0.818891</td>\n",
       "      <td>0.803282</td>\n",
       "      <td>1.027366</td>\n",
       "      <td>0.740091</td>\n",
       "    </tr>\n",
       "    <tr>\n",
       "      <th>31</th>\n",
       "      <td>0.795187</td>\n",
       "      <td>0.807932</td>\n",
       "      <td>0.935463</td>\n",
       "      <td>0.767450</td>\n",
       "    </tr>\n",
       "    <tr>\n",
       "      <th>32</th>\n",
       "      <td>0.782706</td>\n",
       "      <td>0.818022</td>\n",
       "      <td>1.028884</td>\n",
       "      <td>0.714837</td>\n",
       "    </tr>\n",
       "    <tr>\n",
       "      <th>33</th>\n",
       "      <td>0.793701</td>\n",
       "      <td>0.818636</td>\n",
       "      <td>0.999233</td>\n",
       "      <td>0.727815</td>\n",
       "    </tr>\n",
       "    <tr>\n",
       "      <th>34</th>\n",
       "      <td>0.773421</td>\n",
       "      <td>0.813811</td>\n",
       "      <td>0.920397</td>\n",
       "      <td>0.753069</td>\n",
       "    </tr>\n",
       "    <tr>\n",
       "      <th>35</th>\n",
       "      <td>0.769008</td>\n",
       "      <td>0.822234</td>\n",
       "      <td>0.920418</td>\n",
       "      <td>0.759733</td>\n",
       "    </tr>\n",
       "    <tr>\n",
       "      <th>36</th>\n",
       "      <td>0.779582</td>\n",
       "      <td>0.820830</td>\n",
       "      <td>0.974386</td>\n",
       "      <td>0.759032</td>\n",
       "    </tr>\n",
       "    <tr>\n",
       "      <th>37</th>\n",
       "      <td>0.764037</td>\n",
       "      <td>0.827147</td>\n",
       "      <td>0.946143</td>\n",
       "      <td>0.764995</td>\n",
       "    </tr>\n",
       "    <tr>\n",
       "      <th>38</th>\n",
       "      <td>0.753336</td>\n",
       "      <td>0.823462</td>\n",
       "      <td>0.995448</td>\n",
       "      <td>0.728867</td>\n",
       "    </tr>\n",
       "    <tr>\n",
       "      <th>39</th>\n",
       "      <td>0.746614</td>\n",
       "      <td>0.831359</td>\n",
       "      <td>0.907204</td>\n",
       "      <td>0.764644</td>\n",
       "    </tr>\n",
       "    <tr>\n",
       "      <th>40</th>\n",
       "      <td>0.738101</td>\n",
       "      <td>0.835746</td>\n",
       "      <td>0.942459</td>\n",
       "      <td>0.757278</td>\n",
       "    </tr>\n",
       "    <tr>\n",
       "      <th>41</th>\n",
       "      <td>0.727089</td>\n",
       "      <td>0.832149</td>\n",
       "      <td>0.952997</td>\n",
       "      <td>0.753069</td>\n",
       "    </tr>\n",
       "    <tr>\n",
       "      <th>42</th>\n",
       "      <td>0.726722</td>\n",
       "      <td>0.831184</td>\n",
       "      <td>1.036659</td>\n",
       "      <td>0.733427</td>\n",
       "    </tr>\n",
       "    <tr>\n",
       "      <th>43</th>\n",
       "      <td>0.726454</td>\n",
       "      <td>0.839080</td>\n",
       "      <td>1.033542</td>\n",
       "      <td>0.753771</td>\n",
       "    </tr>\n",
       "    <tr>\n",
       "      <th>44</th>\n",
       "      <td>0.711918</td>\n",
       "      <td>0.838466</td>\n",
       "      <td>0.965326</td>\n",
       "      <td>0.775868</td>\n",
       "    </tr>\n",
       "    <tr>\n",
       "      <th>45</th>\n",
       "      <td>0.710177</td>\n",
       "      <td>0.842151</td>\n",
       "      <td>1.038281</td>\n",
       "      <td>0.733076</td>\n",
       "    </tr>\n",
       "    <tr>\n",
       "      <th>46</th>\n",
       "      <td>0.697281</td>\n",
       "      <td>0.851628</td>\n",
       "      <td>0.972281</td>\n",
       "      <td>0.784286</td>\n",
       "    </tr>\n",
       "    <tr>\n",
       "      <th>47</th>\n",
       "      <td>0.693305</td>\n",
       "      <td>0.854260</td>\n",
       "      <td>1.058924</td>\n",
       "      <td>0.728516</td>\n",
       "    </tr>\n",
       "    <tr>\n",
       "      <th>48</th>\n",
       "      <td>0.707125</td>\n",
       "      <td>0.849522</td>\n",
       "      <td>1.034456</td>\n",
       "      <td>0.757629</td>\n",
       "    </tr>\n",
       "    <tr>\n",
       "      <th>49</th>\n",
       "      <td>0.692705</td>\n",
       "      <td>0.852154</td>\n",
       "      <td>1.077872</td>\n",
       "      <td>0.743248</td>\n",
       "    </tr>\n",
       "  </tbody>\n",
       "</table>\n",
       "</div>"
      ],
      "text/plain": [
       "        loss  accuracy  val_loss  val_accuracy\n",
       "0   3.211942  0.288409  2.082208      0.282708\n",
       "1   1.687557  0.307713  1.508794      0.343388\n",
       "2   1.617184  0.334649  1.461553      0.383725\n",
       "3   1.590900  0.374046  1.576917      0.400210\n",
       "4   1.463914  0.431254  1.606776      0.331463\n",
       "5   1.393799  0.459595  1.343410      0.489302\n",
       "6   1.350854  0.493726  1.391388      0.514556\n",
       "7   1.310671  0.532684  1.262544      0.600842\n",
       "8   1.282655  0.571993  1.237750      0.609611\n",
       "9   1.222663  0.614372  1.155307      0.673448\n",
       "10  1.170449  0.647100  1.190125      0.661522\n",
       "11  1.128184  0.670352  1.094835      0.685724\n",
       "12  1.079873  0.685180  1.068357      0.689583\n",
       "13  1.037349  0.700711  1.087346      0.682217\n",
       "14  1.008642  0.714750  0.983442      0.734128\n",
       "15  0.989046  0.721242  0.992844      0.722553\n",
       "16  0.962505  0.730455  0.985413      0.728166\n",
       "17  0.954115  0.738703  0.980129      0.739740\n",
       "18  0.924887  0.747565  1.047624      0.703262\n",
       "19  0.897217  0.760639  0.991322      0.728516\n",
       "20  0.895892  0.760639  0.973880      0.739740\n",
       "21  0.901064  0.762569  1.010419      0.713083\n",
       "22  0.865363  0.772835  0.931345      0.754121\n",
       "23  0.868388  0.774327  0.946329      0.737987\n",
       "24  0.867893  0.784241  0.920362      0.761136\n",
       "25  0.862771  0.778714  0.994593      0.737285\n",
       "26  0.834365  0.792051  0.934197      0.748159\n",
       "27  0.823664  0.793454  0.930738      0.747808\n",
       "28  0.799392  0.804159  0.967551      0.728867\n",
       "29  0.805150  0.798280  1.175009      0.665030\n",
       "30  0.818891  0.803282  1.027366      0.740091\n",
       "31  0.795187  0.807932  0.935463      0.767450\n",
       "32  0.782706  0.818022  1.028884      0.714837\n",
       "33  0.793701  0.818636  0.999233      0.727815\n",
       "34  0.773421  0.813811  0.920397      0.753069\n",
       "35  0.769008  0.822234  0.920418      0.759733\n",
       "36  0.779582  0.820830  0.974386      0.759032\n",
       "37  0.764037  0.827147  0.946143      0.764995\n",
       "38  0.753336  0.823462  0.995448      0.728867\n",
       "39  0.746614  0.831359  0.907204      0.764644\n",
       "40  0.738101  0.835746  0.942459      0.757278\n",
       "41  0.727089  0.832149  0.952997      0.753069\n",
       "42  0.726722  0.831184  1.036659      0.733427\n",
       "43  0.726454  0.839080  1.033542      0.753771\n",
       "44  0.711918  0.838466  0.965326      0.775868\n",
       "45  0.710177  0.842151  1.038281      0.733076\n",
       "46  0.697281  0.851628  0.972281      0.784286\n",
       "47  0.693305  0.854260  1.058924      0.728516\n",
       "48  0.707125  0.849522  1.034456      0.757629\n",
       "49  0.692705  0.852154  1.077872      0.743248"
      ]
     },
     "execution_count": 56,
     "metadata": {},
     "output_type": "execute_result"
    }
   ],
   "source": [
    "hist_=pd.DataFrame(history.history)\n",
    "hist_"
   ]
  },
  {
   "cell_type": "code",
   "execution_count": 57,
   "metadata": {
    "scrolled": true
   },
   "outputs": [
    {
     "data": {
      "text/plain": [
       "<matplotlib.legend.Legend at 0x19e92480670>"
      ]
     },
     "execution_count": 57,
     "metadata": {},
     "output_type": "execute_result"
    },
    {
     "data": {
      "image/png": "[encoded data removed]",
      "text/plain": [
       "<Figure size 1500x500 with 2 Axes>"
      ]
     },
     "metadata": {},
     "output_type": "display_data"
    }
   ],
   "source": [
    "plt.figure(figsize=(15,5))\n",
    "plt.subplot(1,2,1)\n",
    "plt.plot(hist_['loss'],label='Train_Loss')\n",
    "plt.plot(hist_['val_loss'],label='Validation_Loss')\n",
    "plt.title('Train_Loss & Validation_Loss',fontsize=20)\n",
    "plt.legend()\n",
    "plt.subplot(1,2,2)\n",
    "plt.plot(hist_['accuracy'],label='Train_Accuracy')\n",
    "plt.plot(hist_['val_accuracy'],label='Validation_Accuracy')\n",
    "plt.title('Train_Accuracy & Validation_Accuracy',fontsize=20)\n",
    "plt.legend()"
   ]
  }
 ],
 "metadata": {
  "accelerator": "TPU",
  "colab": {
   "gpuType": "V28",
   "provenance": []
  },
  "kernelspec": {
   "display_name": "Python [conda env:ANN] *",
   "language": "python",
   "name": "conda-env-ANN-py"
  },
  "language_info": {
   "codemirror_mode": {
    "name": "ipython",
    "version": 3
   },
   "file_extension": ".py",
   "mimetype": "text/x-python",
   "name": "python",
   "nbconvert_exporter": "python",
   "pygments_lexer": "ipython3",
   "version": "3.9.20"
  }
 },
 "nbformat": 4,
 "nbformat_minor": 1
}
