{
 "cells": [
  {
   "cell_type": "code",
   "execution_count": null,
   "id": "7e7c6de4",
   "metadata": {},
   "outputs": [],
   "source": [
    "def resize_images(dataset_path, output_path, target_size):\n",
    "\n",
    "    os.makedirs(output_path, exist_ok=True)  # Create output directory if it doesn't exist\n",
    "\n",
    "    for subfolder in os.listdir(dataset_path):\n",
    "        subfolder_path = os.path.join(dataset_path, subfolder)\n",
    "        output_subfolder = os.path.join(output_path, subfolder)\n",
    "        os.makedirs(output_subfolder, exist_ok=True)\n",
    "\n",
    "        for image_file in os.listdir(subfolder_path):\n",
    "            image_path = os.path.join(subfolder_path, image_file)\n",
    "            image = Image.open(image_path)\n",
    "            resized_image = image.resize(target_size)\n",
    "\n",
    "            output_image_path = os.path.join(output_subfolder, image_file)\n",
    "            resized_image.save(output_image_path)"
   ]
  },
  {
   "cell_type": "code",
   "execution_count": null,
   "id": "b96178d5",
   "metadata": {},
   "outputs": [],
   "source": [
    "dataset_path = '/FGD/Acadamics and University/Python/Intelligent Systems/Project/Data'\n",
    "dataset_path = dataset_path + '/images'\n",
    "output_path = \"/FGD/Acadamics and University/Python/Intelligent Systems/Project/rescal224\"\n",
    "target_size = (224, 224)\n",
    "\n",
    "resize_images(dataset_path, output_path, target_size)"
   ]
  }
 ],
 "metadata": {
  "kernelspec": {
   "display_name": "Python [conda env:ANN] *",
   "language": "python",
   "name": "conda-env-ANN-py"
  },
  "language_info": {
   "codemirror_mode": {
    "name": "ipython",
    "version": 3
   },
   "file_extension": ".py",
   "mimetype": "text/x-python",
   "name": "python",
   "nbconvert_exporter": "python",
   "pygments_lexer": "ipython3",
   "version": "3.9.20"
  }
 },
 "nbformat": 4,
 "nbformat_minor": 5
}
