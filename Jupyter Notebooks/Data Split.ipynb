{
 "cells": [
  {
   "cell_type": "markdown",
   "id": "4a59172f",
   "metadata": {},
   "source": [
    "Data Split:"
   ]
  },
  {
   "cell_type": "code",
   "execution_count": 1,
   "id": "09910924",
   "metadata": {},
   "outputs": [],
   "source": [
    "# # Path to your dataset folder\n",
    "# input_folder = path\n",
    "\n",
    "# # Output folder where train, val, and test will be created\n",
    "# output_folder = '/FGD/Acadamics and University/Python/Intelligent Systems/Project/rescal224 - split'\n",
    "\n",
    "# # Ratio split for train (70%), validation (15%), and test (15%)\n",
    "# splitfolders.ratio(input_folder, output=output_folder, seed=42, ratio=(.7, .15, .15))"
   ]
  },
  {
   "cell_type": "code",
   "execution_count": 2,
   "id": "3e8e29fd",
   "metadata": {},
   "outputs": [],
   "source": [
    "import splitfolders\n",
    "\n",
    "path = '/FGD/Acadamics and University/Python/Intelligent Systems/Project/rescal224'\n",
    "\n",
    "# Path to your dataset folder\n",
    "input_folder = path\n",
    "\n",
    "# Output folder where train, val, and test will be created\n",
    "output_folder = '/FGD/Acadamics and University/Python/Intelligent Systems/Project/rescal224 - split 2'\n",
    "\n",
    "# Ratio split for train (80%), validation (20%)\n",
    "splitfolders.ratio(input_folder, output=output_folder, seed=77, ratio=(.8, .2))"
   ]
  }
 ],
 "metadata": {
  "kernelspec": {
   "display_name": "Python [conda env:ANN] *",
   "language": "python",
   "name": "conda-env-ANN-py"
  },
  "language_info": {
   "codemirror_mode": {
    "name": "ipython",
    "version": 3
   },
   "file_extension": ".py",
   "mimetype": "text/x-python",
   "name": "python",
   "nbconvert_exporter": "python",
   "pygments_lexer": "ipython3",
   "version": "3.9.20"
  }
 },
 "nbformat": 4,
 "nbformat_minor": 5
}
